{
 "cells": [
  {
   "cell_type": "markdown",
   "metadata": {},
   "source": [
    "# Statistical tests of differences in group means of results"
   ]
  },
  {
   "cell_type": "code",
   "execution_count": 1,
   "metadata": {},
   "outputs": [],
   "source": [
    "library(MASS)"
   ]
  },
  {
   "cell_type": "markdown",
   "metadata": {},
   "source": [
    "## Load evaluation data"
   ]
  },
  {
   "cell_type": "code",
   "execution_count": 2,
   "metadata": {},
   "outputs": [],
   "source": [
    "results_dir <- '../flatlander/entrypoints/results/'"
   ]
  },
  {
   "cell_type": "code",
   "execution_count": 3,
   "metadata": {},
   "outputs": [],
   "source": [
    "small.spa <- read.csv(paste(results_dir, \"SPA-small_1000-episodes.csv\", sep = \"\"), header = TRUE)\n",
    "small.spa_cpr <- read.csv(paste(results_dir, \"SPA-CPR-small_1000-episodes.csv\", sep = \"\"), header = TRUE)\n",
    "small.spa_tcpr <- read.csv(paste(results_dir, \"SPA-TCPR-small_1000-episodes.csv\", sep = \"\"), header = TRUE)\n",
    "small.ato <- read.csv(paste(results_dir, \"ATO-small_1000-episodes.csv\", sep = \"\"), header = TRUE)\n",
    "small.rlpr_tcpr <- read.csv(paste(results_dir, \"RLPR-TCPR-small_1000-episodes.csv\", sep = \"\"), header = TRUE)\n",
    "small.rlps_tcpr <- read.csv(paste(results_dir, \"RLPS-TCPR-small_1000-episodes.csv\", sep = \"\"), header = TRUE)\n",
    "\n",
    "m.spa <- read.csv(paste(results_dir, \"SPA-medium_1000-episodes.csv\", sep = \"\"), header = TRUE)\n",
    "m.spa_cpr <- read.csv(paste(results_dir, \"SPA-CPR-medium_1000-episodes.csv\", sep = \"\"), header = TRUE)\n",
    "m.spa_tcpr <- read.csv(paste(results_dir, \"SPA-TCPR-medium_1000-episodes.csv\", sep = \"\"), header = TRUE)\n",
    "m.ato <- read.csv(paste(results_dir, \"ATO-medium_1000-episodes.csv\", sep = \"\"), header = TRUE)\n",
    "m.rlpr_tcpr <- read.csv(paste(results_dir, \"RLPR-TCPR-medium_1000-episodes.csv\", sep = \"\"), header = TRUE)\n",
    "m.rlps_tcpr <- read.csv(paste(results_dir, \"RLPS-TCPR-medium_1000-episodes.csv\", sep = \"\"), header = TRUE)\n",
    "\n",
    "\n",
    "l.spa <- read.csv(paste(results_dir, \"SPA-large_200-episodes.csv\", sep = \"\"), header = TRUE)\n",
    "l.spa_cpr <- read.csv(paste(results_dir, \"SPA-CPR-large_200-episodes.csv\", sep = \"\"), header = TRUE)\n",
    "l.spa_tcpr <- read.csv(paste(results_dir, \"SPA-TCPR-large_200-episodes.csv\", sep = \"\"), header = TRUE)\n",
    "l.ato <- read.csv(paste(results_dir, \"ATO-large_200-episodes.csv\", sep = \"\"), header = TRUE)\n",
    "l.rlpr_tcpr <- read.csv(paste(results_dir, \"RLPR-TCPR-large_200-episodes.csv\", sep = \"\"), header = TRUE)\n",
    "l.rlps_tcpr <- read.csv(paste(results_dir, \"RLPS-TCPR-large_200-episodes.csv\", sep = \"\"), header = TRUE)"
   ]
  },
  {
   "cell_type": "markdown",
   "metadata": {},
   "source": [
    "## Investigate sample distributions"
   ]
  },
  {
   "cell_type": "code",
   "execution_count": 4,
   "metadata": {},
   "outputs": [
    {
     "data": {
      "text/html": [
       "<strong>png:</strong> 2"
      ],
      "text/latex": [
       "\\textbf{png:} 2"
      ],
      "text/markdown": [
       "**png:** 2"
      ],
      "text/plain": [
       "png \n",
       "  2 "
      ]
     },
     "metadata": {},
     "output_type": "display_data"
    }
   ],
   "source": [
    "pdf(file = \"./qqplot_cpr.pdf\", \n",
    "    width = 4,\n",
    "    height = 4)\n",
    "\n",
    "qqnorm(small.spa_cpr$returns, pch = 1, frame = FALSE, main=\"\")\n",
    "qqline(small.spa_cpr$returns, col = \"steelblue\", lwd = 2, main=\"\")\n",
    "dev.off()"
   ]
  },
  {
   "cell_type": "code",
   "execution_count": 5,
   "metadata": {},
   "outputs": [
    {
     "data": {
      "text/html": [
       "<strong>png:</strong> 2"
      ],
      "text/latex": [
       "\\textbf{png:} 2"
      ],
      "text/markdown": [
       "**png:** 2"
      ],
      "text/plain": [
       "png \n",
       "  2 "
      ]
     },
     "metadata": {},
     "output_type": "display_data"
    }
   ],
   "source": [
    "pdf(file = \"qqplot_tcpr.pdf\", \n",
    "    width = 4,\n",
    "    height = 4)\n",
    "\n",
    "qqnorm(small.spa_tcpr$returns, pch = 1, frame = FALSE, main=\"\")\n",
    "qqline(small.spa_tcpr$returns, col = \"steelblue\", lwd = 2, main=\"\")\n",
    "dev.off()"
   ]
  },
  {
   "cell_type": "code",
   "execution_count": 6,
   "metadata": {},
   "outputs": [],
   "source": [
    "small.returns_data = data.frame(cbind(spa=small.spa$returns, \n",
    "                                      spa_cpr=small.spa_cpr$returns, \n",
    "                                      spa_tcpr=small.spa_tcpr$returns, \n",
    "                                      ato=small.ato$returns, \n",
    "                                      rlpr_tcpr=small.rlpr_tcpr$returns,\n",
    "                                      rlps_tcpr=small.rlps_tcpr$returns))"
   ]
  },
  {
   "cell_type": "code",
   "execution_count": 7,
   "metadata": {},
   "outputs": [],
   "source": [
    "m.returns_data = data.frame(cbind(spa=m.spa$returns,\n",
    "                                  spa_cpr=m.spa_cpr$returns, \n",
    "                                  spa_tcpr=m.spa_tcpr$returns, \n",
    "                                  ato=m.ato$returns, \n",
    "                                  rlpr_tcpr=m.rlpr_tcpr$returns,\n",
    "                                  rlps_tcpr=m.rlps_tcpr$returns))"
   ]
  },
  {
   "cell_type": "code",
   "execution_count": 8,
   "metadata": {},
   "outputs": [],
   "source": [
    "l.returns_data = data.frame(cbind(spa=l.spa$returns,\n",
    "                                  spa_cpr=l.spa_cpr$returns, \n",
    "                                  spa_tcpr=l.spa_tcpr$returns, \n",
    "                                  ato=l.ato$returns,\n",
    "                                  rlpr_tcpr=l.rlpr_tcpr$returns,\n",
    "                                  rlps_tcpr=l.rlps_tcpr$returns))"
   ]
  },
  {
   "cell_type": "code",
   "execution_count": null,
   "metadata": {},
   "outputs": [],
   "source": [
    "small.stacked_returns_data <- stack(small.returns_data)\n",
    "\n",
    "m.stacked_returns_data <- stack(m.returns_data)\n",
    "\n",
    "l.stacked_returns_data <- stack(l.returns_data)"
   ]
  },
  {
   "cell_type": "markdown",
   "metadata": {},
   "source": [
    "## Perform tests to asses significant differences in group means"
   ]
  },
  {
   "cell_type": "code",
   "execution_count": null,
   "metadata": {},
   "outputs": [],
   "source": [
    "pairwise.wilcox.test(small.stacked_returns_data$values, small.stacked_returns_data$ind, p.adjust.method = \"BH\", paired=FALSE)"
   ]
  },
  {
   "cell_type": "code",
   "execution_count": null,
   "metadata": {},
   "outputs": [],
   "source": [
    "pairwise.wilcox.test(m.stacked_returns_data$values, m.stacked_returns_data$ind, p.adjust.method = \"BH\", paired=FALSE)"
   ]
  },
  {
   "cell_type": "code",
   "execution_count": null,
   "metadata": {},
   "outputs": [],
   "source": [
    "pairwise.wilcox.test(l.stacked_returns_data$values, l.stacked_returns_data$ind, p.adjust.method = \"BH\", paired=FALSE)"
   ]
  },
  {
   "cell_type": "markdown",
   "metadata": {},
   "source": [
    "## Group means for percentage complete"
   ]
  },
  {
   "cell_type": "code",
   "execution_count": null,
   "metadata": {},
   "outputs": [],
   "source": [
    "mean(small.spa$pc)\n",
    "mean(small.spa_cpr$pc)\n",
    "mean(small.spa_tcpr$pc)\n",
    "mean(small.ato$pc)\n",
    "mean(small.rlps_tcpr$pc)\n",
    "mean(small.rlpr_tcpr$pc)"
   ]
  },
  {
   "cell_type": "code",
   "execution_count": null,
   "metadata": {},
   "outputs": [],
   "source": [
    "mean(m.spa$pc)\n",
    "mean(m.spa_cpr$pc)\n",
    "mean(m.spa_tcpr$pc)\n",
    "mean(m.ato$pc)\n",
    "mean(m.rlps_tcpr$pc)\n",
    "mean(m.rlpr_tcpr$pc)"
   ]
  },
  {
   "cell_type": "code",
   "execution_count": null,
   "metadata": {},
   "outputs": [],
   "source": [
    "mean(l.spa$pc)\n",
    "mean(l.spa_cpr$pc)\n",
    "mean(l.spa_tcpr$pc)\n",
    "mean(l.ato$pc)\n",
    "mean(l.rlpr_tcpr$pc)\n",
    "mean(l.rlps_tcpr$pc)"
   ]
  },
  {
   "cell_type": "markdown",
   "metadata": {},
   "source": [
    "## Group means for normalized returns"
   ]
  },
  {
   "cell_type": "code",
   "execution_count": null,
   "metadata": {},
   "outputs": [],
   "source": [
    "mean(small.spa$returns)\n",
    "mean(small.spa_cpr$returns)\n",
    "mean(small.spa_tcpr$returns)\n",
    "mean(small.ato$returns)\n",
    "mean(small.rlpr_tcpr$returns)\n",
    "mean(small.rlps_tcpr$returns)"
   ]
  },
  {
   "cell_type": "code",
   "execution_count": null,
   "metadata": {},
   "outputs": [],
   "source": [
    "mean(m.spa$returns)\n",
    "mean(m.spa_cpr$returns)\n",
    "mean(m.spa_tcpr$returns)\n",
    "mean(m.ato$returns)\n",
    "mean(m.rlps_tcpr$returns)\n",
    "mean(m.rlpr_tcpr$returns)"
   ]
  },
  {
   "cell_type": "code",
   "execution_count": null,
   "metadata": {},
   "outputs": [],
   "source": [
    "mean(l.spa$returns)\n",
    "mean(l.spa_cpr$returns)\n",
    "mean(l.spa_tcpr$returns)\n",
    "mean(l.ato$returns)\n",
    "mean(l.rlps_tcpr$returns)\n",
    "mean(l.rlpr_tcpr$returns)"
   ]
  },
  {
   "cell_type": "code",
   "execution_count": null,
   "metadata": {},
   "outputs": [],
   "source": []
  },
  {
   "cell_type": "code",
   "execution_count": null,
   "metadata": {},
   "outputs": [],
   "source": []
  }
 ],
 "metadata": {
  "kernelspec": {
   "display_name": "R",
   "language": "R",
   "name": "ir"
  },
  "language_info": {
   "codemirror_mode": "r",
   "file_extension": ".r",
   "mimetype": "text/x-r-source",
   "name": "R",
   "pygments_lexer": "r",
   "version": "3.6.3"
  }
 },
 "nbformat": 4,
 "nbformat_minor": 4
}
