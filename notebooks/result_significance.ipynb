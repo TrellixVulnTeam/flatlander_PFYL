{
 "cells": [
  {
   "cell_type": "markdown",
   "metadata": {},
   "source": [
    "# Statistical tests of differences in group means of results"
   ]
  },
  {
   "cell_type": "code",
   "execution_count": 29,
   "metadata": {},
   "outputs": [],
   "source": [
    "library(MASS)"
   ]
  },
  {
   "cell_type": "markdown",
   "metadata": {},
   "source": [
    "## Load evaluation data"
   ]
  },
  {
   "cell_type": "code",
   "execution_count": 30,
   "metadata": {},
   "outputs": [],
   "source": [
    "results_dir <- '../flatlander/entrypoints/results/'"
   ]
  },
  {
   "cell_type": "code",
   "execution_count": 31,
   "metadata": {},
   "outputs": [],
   "source": [
    "small.spa <- read.csv(paste(results_dir, \"SPA-small_1000-episodes.csv\", sep = \"\"), header = TRUE)\n",
    "small.spa_cpr <- read.csv(paste(results_dir, \"SPA-CPR-small_1000-episodes.csv\", sep = \"\"), header = TRUE)\n",
    "small.spa_tcpr <- read.csv(paste(results_dir, \"SPA-TCPR-small_1000-episodes.csv\", sep = \"\"), header = TRUE)\n",
    "small.ato <- read.csv(paste(results_dir, \"ATO-small_1000-episodes.csv\", sep = \"\"), header = TRUE)\n",
    "small.rlpr_tcpr <- read.csv(paste(results_dir, \"RLPR-TCPR-small_1000-episodes.csv\", sep = \"\"), header = TRUE)\n",
    "small.rlps_tcpr <- read.csv(paste(results_dir, \"RLPS-TCPR-small_1000-episodes.csv\", sep = \"\"), header = TRUE)\n",
    "\n",
    "m.spa <- read.csv(paste(results_dir, \"SPA-medium_1000-episodes.csv\", sep = \"\"), header = TRUE)\n",
    "m.spa_cpr <- read.csv(paste(results_dir, \"SPA-CPR-medium_1000-episodes.csv\", sep = \"\"), header = TRUE)\n",
    "m.spa_tcpr <- read.csv(paste(results_dir, \"SPA-TCPR-medium_1000-episodes.csv\", sep = \"\"), header = TRUE)\n",
    "m.ato <- read.csv(paste(results_dir, \"ATO-medium_1000-episodes.csv\", sep = \"\"), header = TRUE)\n",
    "m.rlpr_tcpr <- read.csv(paste(results_dir, \"RLPR-TCPR-medium_1000-episodes.csv\", sep = \"\"), header = TRUE)\n",
    "m.rlps_tcpr <- read.csv(paste(results_dir, \"RLPS-TCPR-medium_1000-episodes.csv\", sep = \"\"), header = TRUE)\n",
    "\n",
    "\n",
    "l.spa <- read.csv(paste(results_dir, \"SPA-large_200-episodes.csv\", sep = \"\"), header = TRUE)\n",
    "l.spa_cpr <- read.csv(paste(results_dir, \"SPA-CPR-large_200-episodes.csv\", sep = \"\"), header = TRUE)\n",
    "l.spa_tcpr <- read.csv(paste(results_dir, \"SPA-TCPR-large_200-episodes.csv\", sep = \"\"), header = TRUE)\n",
    "l.ato <- read.csv(paste(results_dir, \"ATO-large_200-episodes.csv\", sep = \"\"), header = TRUE)\n",
    "l.rlpr_tcpr <- read.csv(paste(results_dir, \"RLPR-TCPR-large_200-episodes.csv\", sep = \"\"), header = TRUE)\n",
    "l.rlps_tcpr <- read.csv(paste(results_dir, \"RLPS-TCPR-large_200-episodes.csv\", sep = \"\"), header = TRUE)"
   ]
  },
  {
   "cell_type": "markdown",
   "metadata": {},
   "source": [
    "## Investigate sample distributions"
   ]
  },
  {
   "cell_type": "code",
   "execution_count": 64,
   "metadata": {},
   "outputs": [],
   "source": [
    "library(ggpubr)"
   ]
  },
  {
   "cell_type": "code",
   "execution_count": 68,
   "metadata": {},
   "outputs": [
    {
     "data": {
      "text/html": [
       "<strong>png:</strong> 2"
      ],
      "text/latex": [
       "\\textbf{png:} 2"
      ],
      "text/markdown": [
       "**png:** 2"
      ],
      "text/plain": [
       "png \n",
       "  2 "
      ]
     },
     "metadata": {},
     "output_type": "display_data"
    }
   ],
   "source": [
    "pdf(file = \"./qqplot_cpr.pdf\", \n",
    "    width = 4,\n",
    "    height = 4)\n",
    "\n",
    "ggqqplot(small.spa_cpr$returns)\n",
    "dev.off()"
   ]
  },
  {
   "cell_type": "code",
   "execution_count": 69,
   "metadata": {},
   "outputs": [
    {
     "data": {
      "text/html": [
       "<strong>png:</strong> 2"
      ],
      "text/latex": [
       "\\textbf{png:} 2"
      ],
      "text/markdown": [
       "**png:** 2"
      ],
      "text/plain": [
       "png \n",
       "  2 "
      ]
     },
     "metadata": {},
     "output_type": "display_data"
    }
   ],
   "source": [
    "pdf(file = \"qqplot_tcpr.pdf\", \n",
    "    width = 4,\n",
    "    height = 4)\n",
    "ggqqplot(small.spa_tcpr$returns)\n",
    "dev.off()"
   ]
  },
  {
   "cell_type": "code",
   "execution_count": 34,
   "metadata": {},
   "outputs": [],
   "source": [
    "small.returns_data = data.frame(cbind(spa=small.spa$returns, \n",
    "                                      spa_cpr=small.spa_cpr$returns, \n",
    "                                      spa_tcpr=small.spa_tcpr$returns, \n",
    "                                      ato=small.ato$returns, \n",
    "                                      rlpr_tcpr=small.rlpr_tcpr$returns,\n",
    "                                      rlps_tcpr=small.rlps_tcpr$returns))"
   ]
  },
  {
   "cell_type": "code",
   "execution_count": 35,
   "metadata": {},
   "outputs": [],
   "source": [
    "m.returns_data = data.frame(cbind(spa=m.spa$returns,\n",
    "                                  spa_cpr=m.spa_cpr$returns, \n",
    "                                  spa_tcpr=m.spa_tcpr$returns, \n",
    "                                  ato=m.ato$returns, \n",
    "                                  rlpr_tcpr=m.rlpr_tcpr$returns,\n",
    "                                  rlps_tcpr=m.rlps_tcpr$returns))"
   ]
  },
  {
   "cell_type": "code",
   "execution_count": 36,
   "metadata": {},
   "outputs": [],
   "source": [
    "l.returns_data = data.frame(cbind(spa=l.spa$returns,\n",
    "                                  spa_cpr=l.spa_cpr$returns, \n",
    "                                  spa_tcpr=l.spa_tcpr$returns, \n",
    "                                  ato=l.ato$returns,\n",
    "                                  rlpr_tcpr=l.rlpr_tcpr$returns,\n",
    "                                  rlps_tcpr=l.rlps_tcpr$returns))"
   ]
  },
  {
   "cell_type": "code",
   "execution_count": 37,
   "metadata": {},
   "outputs": [],
   "source": [
    "small.stacked_returns_data <- stack(small.returns_data)\n",
    "\n",
    "m.stacked_returns_data <- stack(m.returns_data)\n",
    "\n",
    "l.stacked_returns_data <- stack(l.returns_data)"
   ]
  },
  {
   "cell_type": "markdown",
   "metadata": {},
   "source": [
    "## Perform tests to asses significant differences in group means"
   ]
  },
  {
   "cell_type": "code",
   "execution_count": 38,
   "metadata": {},
   "outputs": [
    {
     "data": {
      "text/plain": [
       "\n",
       "\tPairwise comparisons using Wilcoxon rank sum test \n",
       "\n",
       "data:  small.stacked_returns_data$values and small.stacked_returns_data$ind \n",
       "\n",
       "          spa    spa_cpr spa_tcpr ato    rlpr_tcpr\n",
       "spa_cpr   <2e-16 -       -        -      -        \n",
       "spa_tcpr  <2e-16 <2e-16  -        -      -        \n",
       "ato       <2e-16 <2e-16  <2e-16   -      -        \n",
       "rlpr_tcpr <2e-16 0.95    <2e-16   <2e-16 -        \n",
       "rlps_tcpr <2e-16 <2e-16  0.80     <2e-16 <2e-16   \n",
       "\n",
       "P value adjustment method: BH "
      ]
     },
     "metadata": {},
     "output_type": "display_data"
    }
   ],
   "source": [
    "pairwise.wilcox.test(small.stacked_returns_data$values, small.stacked_returns_data$ind, p.adjust.method = \"BH\", paired=FALSE)"
   ]
  },
  {
   "cell_type": "code",
   "execution_count": 39,
   "metadata": {},
   "outputs": [
    {
     "data": {
      "text/plain": [
       "\n",
       "\tPairwise comparisons using Wilcoxon rank sum test \n",
       "\n",
       "data:  m.stacked_returns_data$values and m.stacked_returns_data$ind \n",
       "\n",
       "          spa     spa_cpr spa_tcpr ato     rlpr_tcpr\n",
       "spa_cpr   < 2e-16 -       -        -       -        \n",
       "spa_tcpr  < 2e-16 0.37930 -        -       -        \n",
       "ato       0.00028 < 2e-16 < 2e-16  -       -        \n",
       "rlpr_tcpr < 2e-16 6.7e-07 1.4e-05  < 2e-16 -        \n",
       "rlps_tcpr < 2e-16 0.42841 0.80356  < 2e-16 5.0e-06  \n",
       "\n",
       "P value adjustment method: BH "
      ]
     },
     "metadata": {},
     "output_type": "display_data"
    }
   ],
   "source": [
    "pairwise.wilcox.test(m.stacked_returns_data$values, m.stacked_returns_data$ind, p.adjust.method = \"BH\", paired=FALSE)"
   ]
  },
  {
   "cell_type": "code",
   "execution_count": 40,
   "metadata": {},
   "outputs": [
    {
     "data": {
      "text/plain": [
       "\n",
       "\tPairwise comparisons using Wilcoxon rank sum test \n",
       "\n",
       "data:  l.stacked_returns_data$values and l.stacked_returns_data$ind \n",
       "\n",
       "          spa     spa_cpr spa_tcpr ato     rlpr_tcpr\n",
       "spa_cpr   < 2e-16 -       -        -       -        \n",
       "spa_tcpr  < 2e-16 0.2034  -        -       -        \n",
       "ato       0.5722  < 2e-16 < 2e-16  -       -        \n",
       "rlpr_tcpr < 2e-16 0.4137  0.0076   < 2e-16 -        \n",
       "rlps_tcpr < 2e-16 3.1e-06 2.4e-11  < 2e-16 6.2e-07  \n",
       "\n",
       "P value adjustment method: BH "
      ]
     },
     "metadata": {},
     "output_type": "display_data"
    }
   ],
   "source": [
    "pairwise.wilcox.test(l.stacked_returns_data$values, l.stacked_returns_data$ind, p.adjust.method = \"BH\", paired=FALSE)"
   ]
  },
  {
   "cell_type": "markdown",
   "metadata": {},
   "source": [
    "## Group means for percentage complete"
   ]
  },
  {
   "cell_type": "code",
   "execution_count": 41,
   "metadata": {},
   "outputs": [
    {
     "data": {
      "text/html": [
       "0.305375"
      ],
      "text/latex": [
       "0.305375"
      ],
      "text/markdown": [
       "0.305375"
      ],
      "text/plain": [
       "[1] 0.305375"
      ]
     },
     "metadata": {},
     "output_type": "display_data"
    },
    {
     "data": {
      "text/html": [
       "0.9231875"
      ],
      "text/latex": [
       "0.9231875"
      ],
      "text/markdown": [
       "0.9231875"
      ],
      "text/plain": [
       "[1] 0.9231875"
      ]
     },
     "metadata": {},
     "output_type": "display_data"
    },
    {
     "data": {
      "text/html": [
       "0.9615"
      ],
      "text/latex": [
       "0.9615"
      ],
      "text/markdown": [
       "0.9615"
      ],
      "text/plain": [
       "[1] 0.9615"
      ]
     },
     "metadata": {},
     "output_type": "display_data"
    },
    {
     "data": {
      "text/html": [
       "0.438"
      ],
      "text/latex": [
       "0.438"
      ],
      "text/markdown": [
       "0.438"
      ],
      "text/plain": [
       "[1] 0.438"
      ]
     },
     "metadata": {},
     "output_type": "display_data"
    },
    {
     "data": {
      "text/html": [
       "0.2821875"
      ],
      "text/latex": [
       "0.2821875"
      ],
      "text/markdown": [
       "0.2821875"
      ],
      "text/plain": [
       "[1] 0.2821875"
      ]
     },
     "metadata": {},
     "output_type": "display_data"
    },
    {
     "data": {
      "text/html": [
       "0.9720625"
      ],
      "text/latex": [
       "0.9720625"
      ],
      "text/markdown": [
       "0.9720625"
      ],
      "text/plain": [
       "[1] 0.9720625"
      ]
     },
     "metadata": {},
     "output_type": "display_data"
    },
    {
     "data": {
      "text/html": [
       "0.944875"
      ],
      "text/latex": [
       "0.944875"
      ],
      "text/markdown": [
       "0.944875"
      ],
      "text/plain": [
       "[1] 0.944875"
      ]
     },
     "metadata": {},
     "output_type": "display_data"
    }
   ],
   "source": [
    "mean(small.spa$pc)\n",
    "mean(small.spa_cpr$pc)\n",
    "mean(small.spa_tcpr$pc)\n",
    "mean(small.ato$pc)\n",
    "mean(small.apto$pc)\n",
    "mean(small.rlps_tcpr$pc)\n",
    "mean(small.rlpr_tcpr$pc)"
   ]
  },
  {
   "cell_type": "code",
   "execution_count": 42,
   "metadata": {},
   "outputs": [
    {
     "data": {
      "text/html": [
       "0.1530625"
      ],
      "text/latex": [
       "0.1530625"
      ],
      "text/markdown": [
       "0.1530625"
      ],
      "text/plain": [
       "[1] 0.1530625"
      ]
     },
     "metadata": {},
     "output_type": "display_data"
    },
    {
     "data": {
      "text/html": [
       "0.93746875"
      ],
      "text/latex": [
       "0.93746875"
      ],
      "text/markdown": [
       "0.93746875"
      ],
      "text/plain": [
       "[1] 0.9374687"
      ]
     },
     "metadata": {},
     "output_type": "display_data"
    },
    {
     "data": {
      "text/html": [
       "0.935375"
      ],
      "text/latex": [
       "0.935375"
      ],
      "text/markdown": [
       "0.935375"
      ],
      "text/plain": [
       "[1] 0.935375"
      ]
     },
     "metadata": {},
     "output_type": "display_data"
    },
    {
     "data": {
      "text/html": [
       "0.1965"
      ],
      "text/latex": [
       "0.1965"
      ],
      "text/markdown": [
       "0.1965"
      ],
      "text/plain": [
       "[1] 0.1965"
      ]
     },
     "metadata": {},
     "output_type": "display_data"
    },
    {
     "data": {
      "text/html": [
       "0.07953125"
      ],
      "text/latex": [
       "0.07953125"
      ],
      "text/markdown": [
       "0.07953125"
      ],
      "text/plain": [
       "[1] 0.07953125"
      ]
     },
     "metadata": {},
     "output_type": "display_data"
    },
    {
     "data": {
      "text/html": [
       "0.9295"
      ],
      "text/latex": [
       "0.9295"
      ],
      "text/markdown": [
       "0.9295"
      ],
      "text/plain": [
       "[1] 0.9295"
      ]
     },
     "metadata": {},
     "output_type": "display_data"
    },
    {
     "data": {
      "text/html": [
       "0.949875"
      ],
      "text/latex": [
       "0.949875"
      ],
      "text/markdown": [
       "0.949875"
      ],
      "text/plain": [
       "[1] 0.949875"
      ]
     },
     "metadata": {},
     "output_type": "display_data"
    }
   ],
   "source": [
    "mean(m.spa$pc)\n",
    "mean(m.spa_cpr$pc)\n",
    "mean(m.spa_tcpr$pc)\n",
    "mean(m.ato$pc)\n",
    "mean(m.apto$pc)\n",
    "mean(m.rlps_tcpr$pc)\n",
    "mean(m.rlpr_tcpr$pc)"
   ]
  },
  {
   "cell_type": "code",
   "execution_count": 43,
   "metadata": {},
   "outputs": [
    {
     "data": {
      "text/html": [
       "0.077421875"
      ],
      "text/latex": [
       "0.077421875"
      ],
      "text/markdown": [
       "0.077421875"
      ],
      "text/plain": [
       "[1] 0.07742188"
      ]
     },
     "metadata": {},
     "output_type": "display_data"
    },
    {
     "data": {
      "text/html": [
       "0.699921875"
      ],
      "text/latex": [
       "0.699921875"
      ],
      "text/markdown": [
       "0.699921875"
      ],
      "text/plain": [
       "[1] 0.6999219"
      ]
     },
     "metadata": {},
     "output_type": "display_data"
    },
    {
     "data": {
      "text/html": [
       "0.76671875"
      ],
      "text/latex": [
       "0.76671875"
      ],
      "text/markdown": [
       "0.76671875"
      ],
      "text/plain": [
       "[1] 0.7667188"
      ]
     },
     "metadata": {},
     "output_type": "display_data"
    },
    {
     "data": {
      "text/html": [
       "0.08625"
      ],
      "text/latex": [
       "0.08625"
      ],
      "text/markdown": [
       "0.08625"
      ],
      "text/plain": [
       "[1] 0.08625"
      ]
     },
     "metadata": {},
     "output_type": "display_data"
    },
    {
     "data": {
      "text/html": [
       "0.027578125"
      ],
      "text/latex": [
       "0.027578125"
      ],
      "text/markdown": [
       "0.027578125"
      ],
      "text/plain": [
       "[1] 0.02757812"
      ]
     },
     "metadata": {},
     "output_type": "display_data"
    },
    {
     "data": {
      "text/html": [
       "0.753203125"
      ],
      "text/latex": [
       "0.753203125"
      ],
      "text/markdown": [
       "0.753203125"
      ],
      "text/plain": [
       "[1] 0.7532031"
      ]
     },
     "metadata": {},
     "output_type": "display_data"
    },
    {
     "data": {
      "text/html": [
       "0.8396875"
      ],
      "text/latex": [
       "0.8396875"
      ],
      "text/markdown": [
       "0.8396875"
      ],
      "text/plain": [
       "[1] 0.8396875"
      ]
     },
     "metadata": {},
     "output_type": "display_data"
    }
   ],
   "source": [
    "mean(l.spa$pc)\n",
    "mean(l.spa_cpr$pc)\n",
    "mean(l.spa_tcpr$pc)\n",
    "mean(l.ato$pc)\n",
    "mean(l.apto$pc)\n",
    "mean(l.rlpr_tcpr$pc)\n",
    "mean(l.rlps_tcpr$pc)"
   ]
  },
  {
   "cell_type": "markdown",
   "metadata": {},
   "source": [
    "## Group means for normalized returns"
   ]
  },
  {
   "cell_type": "code",
   "execution_count": 47,
   "metadata": {},
   "outputs": [
    {
     "data": {
      "text/html": [
       "-0.716000738899075"
      ],
      "text/latex": [
       "-0.716000738899075"
      ],
      "text/markdown": [
       "-0.716000738899075"
      ],
      "text/plain": [
       "[1] -0.7160007"
      ]
     },
     "metadata": {},
     "output_type": "display_data"
    },
    {
     "data": {
      "text/html": [
       "-0.215411331612723"
      ],
      "text/latex": [
       "-0.215411331612723"
      ],
      "text/markdown": [
       "-0.215411331612723"
      ],
      "text/plain": [
       "[1] -0.2154113"
      ]
     },
     "metadata": {},
     "output_type": "display_data"
    },
    {
     "data": {
      "text/html": [
       "-0.169233438297194"
      ],
      "text/latex": [
       "-0.169233438297194"
      ],
      "text/markdown": [
       "-0.169233438297194"
      ],
      "text/plain": [
       "[1] -0.1692334"
      ]
     },
     "metadata": {},
     "output_type": "display_data"
    },
    {
     "data": {
      "text/html": [
       "-0.604197094726562"
      ],
      "text/latex": [
       "-0.604197094726562"
      ],
      "text/markdown": [
       "-0.604197094726562"
      ],
      "text/plain": [
       "[1] -0.6041971"
      ]
     },
     "metadata": {},
     "output_type": "display_data"
    },
    {
     "data": {
      "text/html": [
       "-0.198751112085459"
      ],
      "text/latex": [
       "-0.198751112085459"
      ],
      "text/markdown": [
       "-0.198751112085459"
      ],
      "text/plain": [
       "[1] -0.1987511"
      ]
     },
     "metadata": {},
     "output_type": "display_data"
    },
    {
     "data": {
      "text/html": [
       "-0.162535525948661"
      ],
      "text/latex": [
       "-0.162535525948661"
      ],
      "text/markdown": [
       "-0.162535525948661"
      ],
      "text/plain": [
       "[1] -0.1625355"
      ]
     },
     "metadata": {},
     "output_type": "display_data"
    }
   ],
   "source": [
    "mean(small.spa$returns)\n",
    "mean(small.spa_cpr$returns)\n",
    "mean(small.spa_tcpr$returns)\n",
    "mean(small.ato$returns)\n",
    "mean(small.rlpr_tcpr$returns)\n",
    "mean(small.rlps_tcpr$returns)"
   ]
  },
  {
   "cell_type": "code",
   "execution_count": 48,
   "metadata": {},
   "outputs": [
    {
     "data": {
      "text/html": [
       "-0.855780351955088"
      ],
      "text/latex": [
       "-0.855780351955088"
      ],
      "text/markdown": [
       "-0.855780351955088"
      ],
      "text/plain": [
       "[1] -0.8557804"
      ]
     },
     "metadata": {},
     "output_type": "display_data"
    },
    {
     "data": {
      "text/html": [
       "-0.294119354639953"
      ],
      "text/latex": [
       "-0.294119354639953"
      ],
      "text/markdown": [
       "-0.294119354639953"
      ],
      "text/plain": [
       "[1] -0.2941194"
      ]
     },
     "metadata": {},
     "output_type": "display_data"
    },
    {
     "data": {
      "text/html": [
       "-0.292470948492462"
      ],
      "text/latex": [
       "-0.292470948492462"
      ],
      "text/markdown": [
       "-0.292470948492462"
      ],
      "text/plain": [
       "[1] -0.2924709"
      ]
     },
     "metadata": {},
     "output_type": "display_data"
    },
    {
     "data": {
      "text/html": [
       "-0.823677201654976"
      ],
      "text/latex": [
       "-0.823677201654976"
      ],
      "text/markdown": [
       "-0.823677201654976"
      ],
      "text/plain": [
       "[1] -0.8236772"
      ]
     },
     "metadata": {},
     "output_type": "display_data"
    },
    {
     "data": {
      "text/html": [
       "-0.294968317062744"
      ],
      "text/latex": [
       "-0.294968317062744"
      ],
      "text/markdown": [
       "-0.294968317062744"
      ],
      "text/plain": [
       "[1] -0.2949683"
      ]
     },
     "metadata": {},
     "output_type": "display_data"
    },
    {
     "data": {
      "text/html": [
       "-0.301215017960898"
      ],
      "text/latex": [
       "-0.301215017960898"
      ],
      "text/markdown": [
       "-0.301215017960898"
      ],
      "text/plain": [
       "[1] -0.301215"
      ]
     },
     "metadata": {},
     "output_type": "display_data"
    }
   ],
   "source": [
    "mean(m.spa$returns)\n",
    "mean(m.spa_cpr$returns)\n",
    "mean(m.spa_tcpr$returns)\n",
    "mean(m.ato$returns)\n",
    "mean(m.rlps_tcpr$returns)\n",
    "mean(m.rlpr_tcpr$returns)"
   ]
  },
  {
   "cell_type": "code",
   "execution_count": 49,
   "metadata": {},
   "outputs": [
    {
     "data": {
      "text/html": [
       "-0.92587549457796"
      ],
      "text/latex": [
       "-0.92587549457796"
      ],
      "text/markdown": [
       "-0.92587549457796"
      ],
      "text/plain": [
       "[1] -0.9258755"
      ]
     },
     "metadata": {},
     "output_type": "display_data"
    },
    {
     "data": {
      "text/html": [
       "-0.506510019783118"
      ],
      "text/latex": [
       "-0.506510019783118"
      ],
      "text/markdown": [
       "-0.506510019783118"
      ],
      "text/plain": [
       "[1] -0.50651"
      ]
     },
     "metadata": {},
     "output_type": "display_data"
    },
    {
     "data": {
      "text/html": [
       "-0.51970764947245"
      ],
      "text/latex": [
       "-0.51970764947245"
      ],
      "text/markdown": [
       "-0.51970764947245"
      ],
      "text/plain": [
       "[1] -0.5197076"
      ]
     },
     "metadata": {},
     "output_type": "display_data"
    },
    {
     "data": {
      "text/html": [
       "-0.921827831916764"
      ],
      "text/latex": [
       "-0.921827831916764"
      ],
      "text/markdown": [
       "-0.921827831916764"
      ],
      "text/plain": [
       "[1] -0.9218278"
      ]
     },
     "metadata": {},
     "output_type": "display_data"
    },
    {
     "data": {
      "text/html": [
       "-0.421740914419695"
      ],
      "text/latex": [
       "-0.421740914419695"
      ],
      "text/markdown": [
       "-0.421740914419695"
      ],
      "text/plain": [
       "[1] -0.4217409"
      ]
     },
     "metadata": {},
     "output_type": "display_data"
    },
    {
     "data": {
      "text/html": [
       "-0.479215086459555"
      ],
      "text/latex": [
       "-0.479215086459555"
      ],
      "text/markdown": [
       "-0.479215086459555"
      ],
      "text/plain": [
       "[1] -0.4792151"
      ]
     },
     "metadata": {},
     "output_type": "display_data"
    }
   ],
   "source": [
    "mean(l.spa$returns)\n",
    "mean(l.spa_cpr$returns)\n",
    "mean(l.spa_tcpr$returns)\n",
    "mean(l.ato$returns)\n",
    "mean(l.rlps_tcpr$returns)\n",
    "mean(l.rlpr_tcpr$returns)"
   ]
  },
  {
   "cell_type": "code",
   "execution_count": null,
   "metadata": {},
   "outputs": [],
   "source": []
  },
  {
   "cell_type": "code",
   "execution_count": null,
   "metadata": {},
   "outputs": [],
   "source": []
  }
 ],
 "metadata": {
  "kernelspec": {
   "display_name": "R",
   "language": "R",
   "name": "ir"
  },
  "language_info": {
   "codemirror_mode": "r",
   "file_extension": ".r",
   "mimetype": "text/x-r-source",
   "name": "R",
   "pygments_lexer": "r",
   "version": "3.6.3"
  }
 },
 "nbformat": 4,
 "nbformat_minor": 4
}
