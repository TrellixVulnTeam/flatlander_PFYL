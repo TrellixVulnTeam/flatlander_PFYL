{
 "cells": [
  {
   "cell_type": "markdown",
   "metadata": {},
   "source": [
    "## Anova for results"
   ]
  },
  {
   "cell_type": "code",
   "execution_count": 20,
   "metadata": {},
   "outputs": [],
   "source": [
    "library(MASS)"
   ]
  },
  {
   "cell_type": "code",
   "execution_count": 4,
   "metadata": {},
   "outputs": [
    {
     "data": {
      "text/html": [
       "<table>\n",
       "<caption>A data.frame: 6 × 4</caption>\n",
       "<thead>\n",
       "\t<tr><th></th><th scope=col>X</th><th scope=col>pc</th><th scope=col>returns</th><th scope=col>malfs</th></tr>\n",
       "\t<tr><th></th><th scope=col>&lt;int&gt;</th><th scope=col>&lt;dbl&gt;</th><th scope=col>&lt;dbl&gt;</th><th scope=col>&lt;int&gt;</th></tr>\n",
       "</thead>\n",
       "<tbody>\n",
       "\t<tr><th scope=row>1</th><td>0</td><td>1.000</td><td>-0.1411990</td><td>2</td></tr>\n",
       "\t<tr><th scope=row>2</th><td>1</td><td>1.000</td><td>-0.1214286</td><td>4</td></tr>\n",
       "\t<tr><th scope=row>3</th><td>2</td><td>1.000</td><td>-0.1229248</td><td>1</td></tr>\n",
       "\t<tr><th scope=row>4</th><td>3</td><td>1.000</td><td>-0.1176020</td><td>2</td></tr>\n",
       "\t<tr><th scope=row>5</th><td>4</td><td>1.000</td><td>-0.1197704</td><td>2</td></tr>\n",
       "\t<tr><th scope=row>6</th><td>5</td><td>0.625</td><td>-0.5613520</td><td>9</td></tr>\n",
       "</tbody>\n",
       "</table>\n"
      ],
      "text/latex": [
       "A data.frame: 6 × 4\n",
       "\\begin{tabular}{r|llll}\n",
       "  & X & pc & returns & malfs\\\\\n",
       "  & <int> & <dbl> & <dbl> & <int>\\\\\n",
       "\\hline\n",
       "\t1 & 0 & 1.000 & -0.1411990 & 2\\\\\n",
       "\t2 & 1 & 1.000 & -0.1214286 & 4\\\\\n",
       "\t3 & 2 & 1.000 & -0.1229248 & 1\\\\\n",
       "\t4 & 3 & 1.000 & -0.1176020 & 2\\\\\n",
       "\t5 & 4 & 1.000 & -0.1197704 & 2\\\\\n",
       "\t6 & 5 & 0.625 & -0.5613520 & 9\\\\\n",
       "\\end{tabular}\n"
      ],
      "text/markdown": [
       "\n",
       "A data.frame: 6 × 4\n",
       "\n",
       "| <!--/--> | X &lt;int&gt; | pc &lt;dbl&gt; | returns &lt;dbl&gt; | malfs &lt;int&gt; |\n",
       "|---|---|---|---|---|\n",
       "| 1 | 0 | 1.000 | -0.1411990 | 2 |\n",
       "| 2 | 1 | 1.000 | -0.1214286 | 4 |\n",
       "| 3 | 2 | 1.000 | -0.1229248 | 1 |\n",
       "| 4 | 3 | 1.000 | -0.1176020 | 2 |\n",
       "| 5 | 4 | 1.000 | -0.1197704 | 2 |\n",
       "| 6 | 5 | 0.625 | -0.5613520 | 9 |\n",
       "\n"
      ],
      "text/plain": [
       "  X pc    returns    malfs\n",
       "1 0 1.000 -0.1411990 2    \n",
       "2 1 1.000 -0.1214286 4    \n",
       "3 2 1.000 -0.1229248 1    \n",
       "4 3 1.000 -0.1176020 2    \n",
       "5 4 1.000 -0.1197704 2    \n",
       "6 5 0.625 -0.5613520 9    "
      ]
     },
     "metadata": {},
     "output_type": "display_data"
    }
   ],
   "source": [
    "spa_cpr <- read.csv(\"./data/SPA-CPR-small_1000-episodes.csv\", header = TRUE)\n",
    "spa_tcpr <- read.csv(\"./data/SPA-TCPR-small_1000-episodes.csv\", header = TRUE)\n",
    "\n",
    "head(spa_tcpr)"
   ]
  },
  {
   "cell_type": "code",
   "execution_count": 63,
   "metadata": {},
   "outputs": [
    {
     "data": {
      "text/html": [
       "<strong>png:</strong> 2"
      ],
      "text/latex": [
       "\\textbf{png:} 2"
      ],
      "text/markdown": [
       "**png:** 2"
      ],
      "text/plain": [
       "png \n",
       "  2 "
      ]
     },
     "metadata": {},
     "output_type": "display_data"
    }
   ],
   "source": [
    "pdf(file = \"./qqplot_cpr.pdf\", \n",
    "    width = 6,\n",
    "    height = 6)\n",
    "\n",
    "qqnorm(spa_cpr$returns, pch = 1, frame = FALSE)\n",
    "qqline(spa_cpr$returns, col = \"steelblue\", lwd = 2)\n",
    "dev.off()"
   ]
  },
  {
   "cell_type": "code",
   "execution_count": 64,
   "metadata": {},
   "outputs": [
    {
     "data": {
      "text/html": [
       "<strong>png:</strong> 2"
      ],
      "text/latex": [
       "\\textbf{png:} 2"
      ],
      "text/markdown": [
       "**png:** 2"
      ],
      "text/plain": [
       "png \n",
       "  2 "
      ]
     },
     "metadata": {},
     "output_type": "display_data"
    }
   ],
   "source": [
    "pdf(file = \"./qqplot_tcpr.pdf\", \n",
    "    width = 6,\n",
    "    height = 6)\n",
    "\n",
    "qqnorm(spa_tcpr$returns, pch = 1, frame = FALSE)\n",
    "qqline(spa_tcpr$returns, col = \"steelblue\", lwd = 2)\n",
    "dev.off()"
   ]
  },
  {
   "cell_type": "code",
   "execution_count": 50,
   "metadata": {},
   "outputs": [],
   "source": [
    "pc_data = data.frame(cbind(cpr=spa_cpr$pc, tcpr=spa_tcpr$pc))"
   ]
  },
  {
   "cell_type": "code",
   "execution_count": 51,
   "metadata": {},
   "outputs": [
    {
     "data": {
      "text/html": [
       "<table>\n",
       "<caption>A data.frame: 6 × 2</caption>\n",
       "<thead>\n",
       "\t<tr><th></th><th scope=col>values</th><th scope=col>ind</th></tr>\n",
       "\t<tr><th></th><th scope=col>&lt;dbl&gt;</th><th scope=col>&lt;fct&gt;</th></tr>\n",
       "</thead>\n",
       "<tbody>\n",
       "\t<tr><th scope=row>1</th><td>1.0</td><td>cpr</td></tr>\n",
       "\t<tr><th scope=row>2</th><td>1.0</td><td>cpr</td></tr>\n",
       "\t<tr><th scope=row>3</th><td>1.0</td><td>cpr</td></tr>\n",
       "\t<tr><th scope=row>4</th><td>1.0</td><td>cpr</td></tr>\n",
       "\t<tr><th scope=row>5</th><td>0.5</td><td>cpr</td></tr>\n",
       "\t<tr><th scope=row>6</th><td>1.0</td><td>cpr</td></tr>\n",
       "</tbody>\n",
       "</table>\n"
      ],
      "text/latex": [
       "A data.frame: 6 × 2\n",
       "\\begin{tabular}{r|ll}\n",
       "  & values & ind\\\\\n",
       "  & <dbl> & <fct>\\\\\n",
       "\\hline\n",
       "\t1 & 1.0 & cpr\\\\\n",
       "\t2 & 1.0 & cpr\\\\\n",
       "\t3 & 1.0 & cpr\\\\\n",
       "\t4 & 1.0 & cpr\\\\\n",
       "\t5 & 0.5 & cpr\\\\\n",
       "\t6 & 1.0 & cpr\\\\\n",
       "\\end{tabular}\n"
      ],
      "text/markdown": [
       "\n",
       "A data.frame: 6 × 2\n",
       "\n",
       "| <!--/--> | values &lt;dbl&gt; | ind &lt;fct&gt; |\n",
       "|---|---|---|\n",
       "| 1 | 1.0 | cpr |\n",
       "| 2 | 1.0 | cpr |\n",
       "| 3 | 1.0 | cpr |\n",
       "| 4 | 1.0 | cpr |\n",
       "| 5 | 0.5 | cpr |\n",
       "| 6 | 1.0 | cpr |\n",
       "\n"
      ],
      "text/plain": [
       "  values ind\n",
       "1 1.0    cpr\n",
       "2 1.0    cpr\n",
       "3 1.0    cpr\n",
       "4 1.0    cpr\n",
       "5 0.5    cpr\n",
       "6 1.0    cpr"
      ]
     },
     "metadata": {},
     "output_type": "display_data"
    }
   ],
   "source": [
    "stacked_pc_data <- stack(pc_data)\n",
    "head(stacked_pc_data)"
   ]
  },
  {
   "cell_type": "code",
   "execution_count": 52,
   "metadata": {},
   "outputs": [
    {
     "data": {
      "text/plain": [
       "\n",
       "\tPairwise comparisons using Wilcoxon rank sum test \n",
       "\n",
       "data:  stacked_pc_data$values and stacked_pc_data$ind \n",
       "\n",
       "     cpr   \n",
       "tcpr <2e-16\n",
       "\n",
       "P value adjustment method: BH "
      ]
     },
     "metadata": {},
     "output_type": "display_data"
    }
   ],
   "source": [
    "pairwise.wilcox.test(stacked_pc_data$values, stacked_pc_data$ind, p.adjust.method = \"BH\")"
   ]
  },
  {
   "cell_type": "code",
   "execution_count": 54,
   "metadata": {},
   "outputs": [
    {
     "data": {
      "text/html": [
       "0.9231875"
      ],
      "text/latex": [
       "0.9231875"
      ],
      "text/markdown": [
       "0.9231875"
      ],
      "text/plain": [
       "[1] 0.9231875"
      ]
     },
     "metadata": {},
     "output_type": "display_data"
    },
    {
     "data": {
      "text/html": [
       "0.9615"
      ],
      "text/latex": [
       "0.9615"
      ],
      "text/markdown": [
       "0.9615"
      ],
      "text/plain": [
       "[1] 0.9615"
      ]
     },
     "metadata": {},
     "output_type": "display_data"
    }
   ],
   "source": [
    "mean(spa_cpr$pc)\n",
    "mean(spa_tcpr$pc)"
   ]
  },
  {
   "cell_type": "code",
   "execution_count": 65,
   "metadata": {},
   "outputs": [
    {
     "data": {
      "text/html": [
       "-0.215411331612723"
      ],
      "text/latex": [
       "-0.215411331612723"
      ],
      "text/markdown": [
       "-0.215411331612723"
      ],
      "text/plain": [
       "[1] -0.2154113"
      ]
     },
     "metadata": {},
     "output_type": "display_data"
    },
    {
     "data": {
      "text/html": [
       "-0.169233438297194"
      ],
      "text/latex": [
       "-0.169233438297194"
      ],
      "text/markdown": [
       "-0.169233438297194"
      ],
      "text/plain": [
       "[1] -0.1692334"
      ]
     },
     "metadata": {},
     "output_type": "display_data"
    }
   ],
   "source": [
    "mean(spa_cpr$returns)\n",
    "mean(spa_tcpr$returns)"
   ]
  },
  {
   "cell_type": "code",
   "execution_count": null,
   "metadata": {},
   "outputs": [],
   "source": []
  }
 ],
 "metadata": {
  "kernelspec": {
   "display_name": "R",
   "language": "R",
   "name": "ir"
  },
  "language_info": {
   "codemirror_mode": "r",
   "file_extension": ".r",
   "mimetype": "text/x-r-source",
   "name": "R",
   "pygments_lexer": "r",
   "version": "3.6.3"
  }
 },
 "nbformat": 4,
 "nbformat_minor": 4
}
