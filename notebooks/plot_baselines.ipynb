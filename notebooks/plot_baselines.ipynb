{
 "cells": [
  {
   "cell_type": "markdown",
   "metadata": {},
   "source": [
    "# WandB run data"
   ]
  },
  {
   "cell_type": "code",
   "execution_count": 8,
   "metadata": {},
   "outputs": [],
   "source": [
    "import wandb\n",
    "import os\n",
    "from matplotlib.pyplot import figure\n",
    "import numpy as np\n",
    "import pandas as pd\n",
    "import matplotlib\n",
    "import matplotlib.colors as mcolors\n",
    "import matplotlib.pyplot as plt\n",
    "fontsize = 12\n",
    "plt.rc('font', size=fontsize)\n",
    "plt.rc('axes', titlesize=fontsize)\n",
    "plt.rcParams.update({'font.size': fontsize})"
   ]
  },
  {
   "cell_type": "code",
   "execution_count": 9,
   "metadata": {},
   "outputs": [],
   "source": [
    "data_dir = \"data\"\n",
    "run_prefix = 'wullli/flatland/'"
   ]
  },
  {
   "cell_type": "code",
   "execution_count": 10,
   "metadata": {},
   "outputs": [],
   "source": [
    "run_map = {#\"Ape-X TreeObs and Local Conflict\": [\"28maqwn2\", \"2g8ev19o\", \"32v0xigi\"],\n",
    "           \"PPO TreeObs and Action Masking\": [\"1fp8rsnd\", \"2cw55h5o\", \"w9tyfmsv\"],\n",
    "           \"Centralized Critic Transformer PPO TreeObs\": [\"14bkmmc1\", \"3ohw0yo6\"],\n",
    "           #\"Centralized Critic PPO TreeObs\": [\"1wjmjc4v\", \"2ul4dpfr\"],\n",
    "           \"SAC TreeObs\": [\"2dj4pn4r\", \"3u3h718q\", \"3r7t8jn7\"]}"
   ]
  },
  {
   "cell_type": "code",
   "execution_count": 11,
   "metadata": {},
   "outputs": [],
   "source": [
    "grouped_runs = {gn: [run_prefix + rid for rid in ids] for gn, ids in run_map.items()}"
   ]
  },
  {
   "cell_type": "code",
   "execution_count": 12,
   "metadata": {},
   "outputs": [
    {
     "ename": "AttributeError",
     "evalue": "module 'wandb' has no attribute 'Api'",
     "output_type": "error",
     "traceback": [
      "\u001b[0;31m---------------------------------------------------------------------------\u001b[0m",
      "\u001b[0;31mAttributeError\u001b[0m                            Traceback (most recent call last)",
      "\u001b[0;32m<ipython-input-12-a2e33c127c0d>\u001b[0m in \u001b[0;36m<module>\u001b[0;34m\u001b[0m\n\u001b[0;32m----> 1\u001b[0;31m \u001b[0mapi\u001b[0m \u001b[0;34m=\u001b[0m \u001b[0mwandb\u001b[0m\u001b[0;34m.\u001b[0m\u001b[0mApi\u001b[0m\u001b[0;34m(\u001b[0m\u001b[0;34m)\u001b[0m\u001b[0;34m\u001b[0m\u001b[0;34m\u001b[0m\u001b[0m\n\u001b[0m",
      "\u001b[0;31mAttributeError\u001b[0m: module 'wandb' has no attribute 'Api'"
     ]
    }
   ],
   "source": [
    "api = wandb."
   ]
  },
  {
   "cell_type": "code",
   "execution_count": null,
   "metadata": {},
   "outputs": [],
   "source": [
    "grouped_dfs = {}\n",
    "\n",
    "for gn, run_paths in grouped_runs.items():\n",
    "    dfs = []\n",
    "    for i, run in enumerate(run_paths):\n",
    "        run = api.run(run)\n",
    "        data = run.history()\n",
    "        dfs.append(data)\n",
    "    grouped_dfs[gn] = dfs"
   ]
  },
  {
   "cell_type": "code",
   "execution_count": null,
   "metadata": {},
   "outputs": [],
   "source": [
    "def plot_with_error_band(x_key: str, y_key: str, \n",
    "                         dfs: list, \n",
    "                         color='#CC4F1B', \n",
    "                         label=None):\n",
    "    lengths = [len(df.values) for df in dfs]\n",
    "    min_len = min(lengths)\n",
    "    xs = np.stack([df[x_key].values[:min_len] for df in dfs])\n",
    "    ys = np.stack([df[y_key].values[:min_len] for df in dfs])\n",
    "    \n",
    "    min_y = np.min(ys, axis=0)\n",
    "    max_y = np.max(ys, axis=0)\n",
    "    mean_y = np.mean(ys, axis=0)\n",
    "    mean_x = np.mean(xs, axis=0)\n",
    "\n",
    "    plt.plot(mean_x, mean_y, 'k', color=color, label=label)\n",
    "    plt.fill_between(mean_x, min_y, max_y,\n",
    "        alpha=0.15, edgecolor=color, facecolor=color)"
   ]
  },
  {
   "cell_type": "code",
   "execution_count": null,
   "metadata": {},
   "outputs": [],
   "source": [
    "x_key = \"timesteps_total\"\n",
    "y_key = \"custom_metrics/percentage_complete_mean\"\n",
    "\n",
    "color_idx = 0\n",
    "figure(num=None, figsize=(10, 5), dpi=300, facecolor='w', edgecolor='k')\n",
    "\n",
    "plt.xlim((0, 1.5e7))\n",
    "plt.ylim((0, 1))\n",
    "\n",
    "for gn, dfs in grouped_dfs.items():\n",
    "    color = list(mcolors.TABLEAU_COLORS.values())[color_idx]\n",
    "    plot_with_error_band(x_key, y_key, dfs, color, label=gn)\n",
    "    color_idx += 1\n",
    "\n",
    "plt.yticks(ticks=np.arange(0, 1, 0.1))\n",
    "plt.grid(axis='y', alpha=0.5)\n",
    "plt.legend(loc=\"lower right\")\n",
    "plt.ylabel(\"Percentage complete\")\n",
    "plt.xlabel(\"Timesteps\")\n",
    "plt.title(\"\")\n",
    "plt.show()"
   ]
  },
  {
   "cell_type": "code",
   "execution_count": null,
   "metadata": {},
   "outputs": [],
   "source": []
  },
  {
   "cell_type": "code",
   "execution_count": null,
   "metadata": {},
   "outputs": [],
   "source": []
  }
 ],
 "metadata": {
  "kernelspec": {
   "display_name": "Python 3",
   "language": "python",
   "name": "python3"
  },
  "language_info": {
   "codemirror_mode": {
    "name": "ipython",
    "version": 3
   },
   "file_extension": ".py",
   "mimetype": "text/x-python",
   "name": "python",
   "nbconvert_exporter": "python",
   "pygments_lexer": "ipython3",
   "version": "3.7.5"
  }
 },
 "nbformat": 4,
 "nbformat_minor": 4
}
